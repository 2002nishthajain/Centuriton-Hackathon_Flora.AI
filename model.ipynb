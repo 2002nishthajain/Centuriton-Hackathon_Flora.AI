{
 "cells": [
  {
   "cell_type": "code",
   "execution_count": 3,
   "metadata": {},
   "outputs": [],
   "source": [
    "# Import modules\n",
    "from keras.applications.inception_v3 import InceptionV3\n",
    "from keras.models import load_model\n",
    "from keras.layers import Dense, Flatten, Dropout\n",
    "from keras.preprocessing.image import ImageDataGenerator\n",
    "from keras.models import Sequential\n",
    "from keras.utils import load_img\n",
    "import glob"
   ]
  },
  {
   "cell_type": "code",
   "execution_count": 4,
   "metadata": {},
   "outputs": [],
   "source": [
    "IMAGE_SIZE = [224, 224]\n",
    "train_path = 'D:/Computer/Assignments/PlantDisease/Datasets/New Plant Diseases Dataset(Augmented)/New Plant Diseases Dataset(Augmented)/train'\n",
    "valid_path = 'D:/Computer/Assignments/PlantDisease/Datasets/New Plant Diseases Dataset(Augmented)/New Plant Diseases Dataset(Augmented)/valid'"
   ]
  },
  {
   "cell_type": "code",
   "execution_count": 3,
   "metadata": {},
   "outputs": [],
   "source": [
    "# Import the Inception model\n",
    "inception = InceptionV3(input_shape=IMAGE_SIZE + [3], weights='imagenet', include_top=False)"
   ]
  },
  {
   "cell_type": "code",
   "execution_count": 4,
   "metadata": {},
   "outputs": [],
   "source": [
    "# we chose to train the top 2 inception blocks, i.e. we will freeze\n",
    "# the first 249 layers and unfreeze the rest:\n",
    "for layer in inception.layers[:249]:\n",
    "    layer.trainable = False\n",
    "for layer in inception.layers[249:]:\n",
    "    layer.trainable = True\n"
   ]
  },
  {
   "cell_type": "code",
   "execution_count": 5,
   "metadata": {},
   "outputs": [
    {
     "data": {
      "text/plain": [
       "38"
      ]
     },
     "execution_count": 5,
     "metadata": {},
     "output_type": "execute_result"
    }
   ],
   "source": [
    "folders = glob.glob('D:/Computer/Assignments/PlantDisease/Datasets/New Plant Diseases Dataset(Augmented)/New Plant Diseases Dataset(Augmented)/train/*')\n",
    "len(folders)"
   ]
  },
  {
   "cell_type": "code",
   "execution_count": 4,
   "metadata": {},
   "outputs": [
    {
     "ename": "NameError",
     "evalue": "name 'inception' is not defined",
     "output_type": "error",
     "traceback": [
      "\u001b[1;31m---------------------------------------------------------------------------\u001b[0m",
      "\u001b[1;31mNameError\u001b[0m                                 Traceback (most recent call last)",
      "Cell \u001b[1;32mIn [4], line 2\u001b[0m\n\u001b[0;32m      1\u001b[0m model_finetuned \u001b[39m=\u001b[39m Sequential([\n\u001b[1;32m----> 2\u001b[0m     inception,\n\u001b[0;32m      3\u001b[0m     Flatten(),\n\u001b[0;32m      4\u001b[0m     Dense(\u001b[39m512\u001b[39m, activation\u001b[39m=\u001b[39m\u001b[39m'\u001b[39m\u001b[39mrelu\u001b[39m\u001b[39m'\u001b[39m),\n\u001b[0;32m      5\u001b[0m     Dropout(rate\u001b[39m=\u001b[39m\u001b[39m0.2\u001b[39m),\n\u001b[0;32m      6\u001b[0m     Dense(\u001b[39m38\u001b[39m, activation\u001b[39m=\u001b[39m\u001b[39m'\u001b[39m\u001b[39msoftmax\u001b[39m\u001b[39m'\u001b[39m)\n\u001b[0;32m      7\u001b[0m ])\n",
      "\u001b[1;31mNameError\u001b[0m: name 'inception' is not defined"
     ]
    }
   ],
   "source": [
    "model_finetuned = Sequential([\n",
    "    inception,\n",
    "    Flatten(),\n",
    "    Dense(512, activation='relu'),\n",
    "    Dropout(rate=0.2),\n",
    "    Dense(38, activation='softmax')\n",
    "])"
   ]
  },
  {
   "cell_type": "code",
   "execution_count": 4,
   "metadata": {},
   "outputs": [],
   "source": [
    "train_datagen = ImageDataGenerator( rescale=1./255, rotation_range=10, shear_range=0.2,zoom_range=0.2,horizontal_flip=True)\n",
    "\n",
    "test_datagen = ImageDataGenerator(rescale=1./255)"
   ]
  },
  {
   "cell_type": "code",
   "execution_count": 5,
   "metadata": {},
   "outputs": [
    {
     "name": "stdout",
     "output_type": "stream",
     "text": [
      "Found 140590 images belonging to 38 classes.\n"
     ]
    }
   ],
   "source": [
    "train_set = train_datagen.flow_from_directory('D:/Computer/Assignments/PlantDisease/Datasets/New Plant Diseases Dataset(Augmented)/New Plant Diseases Dataset(Augmented)/train',target_size=IMAGE_SIZE,batch_size=50,class_mode='categorical')"
   ]
  },
  {
   "cell_type": "code",
   "execution_count": 6,
   "metadata": {},
   "outputs": [
    {
     "name": "stdout",
     "output_type": "stream",
     "text": [
      "Found 35144 images belonging to 38 classes.\n"
     ]
    }
   ],
   "source": [
    "test_set = test_datagen.flow_from_directory('D:/Computer/Assignments/PlantDisease/Datasets/New Plant Diseases Dataset(Augmented)/New Plant Diseases Dataset(Augmented)/valid',target_size=IMAGE_SIZE,batch_size=50,class_mode='categorical')"
   ]
  },
  {
   "cell_type": "code",
   "execution_count": 10,
   "metadata": {},
   "outputs": [
    {
     "name": "stdout",
     "output_type": "stream",
     "text": [
      "Model: \"sequential\"\n",
      "_________________________________________________________________\n",
      " Layer (type)                Output Shape              Param #   \n",
      "=================================================================\n",
      " inception_v3 (Functional)   (None, 5, 5, 2048)        21802784  \n",
      "                                                                 \n",
      " flatten (Flatten)           (None, 51200)             0         \n",
      "                                                                 \n",
      " dense (Dense)               (None, 512)               26214912  \n",
      "                                                                 \n",
      " dropout (Dropout)           (None, 512)               0         \n",
      "                                                                 \n",
      " dense_1 (Dense)             (None, 38)                19494     \n",
      "                                                                 \n",
      "=================================================================\n",
      "Total params: 48,037,190\n",
      "Trainable params: 37,349,286\n",
      "Non-trainable params: 10,687,904\n",
      "_________________________________________________________________\n"
     ]
    }
   ],
   "source": [
    "# compile the model\n",
    "model_finetuned.compile(\n",
    "  loss='categorical_crossentropy',\n",
    "  optimizer='adam',\n",
    "  metrics=['accuracy']\n",
    ")\n",
    "\n",
    "model_finetuned.summary()"
   ]
  },
  {
   "cell_type": "code",
   "execution_count": 11,
   "metadata": {},
   "outputs": [],
   "source": [
    "from keras.callbacks import EarlyStopping, ModelCheckpoint\n",
    "\n",
    "file_path = 'model_finetuned.h5'\n",
    "checkpoint1 = ModelCheckpoint(file_path, monitor='val_accuracy', verbose=1, save_best_only=True, mode='max')\n",
    "early = EarlyStopping(monitor=\"val_accuracy\", mode=\"max\", patience=15)\n",
    "callbacks_list = [checkpoint1, early] #early\n"
   ]
  },
  {
   "cell_type": "code",
   "execution_count": 12,
   "metadata": {},
   "outputs": [
    {
     "name": "stdout",
     "output_type": "stream",
     "text": [
      "Epoch 1/10\n",
      "2812/2812 [==============================] - ETA: 0s - loss: 0.2884 - accuracy: 0.9201\n",
      "Epoch 1: val_accuracy improved from -inf to 0.95487, saving model to model_finetuned.h5\n",
      "2812/2812 [==============================] - 1403s 493ms/step - loss: 0.2884 - accuracy: 0.9201 - val_loss: 0.1410 - val_accuracy: 0.9549\n",
      "Epoch 2/10\n",
      "2812/2812 [==============================] - ETA: 0s - loss: 0.1019 - accuracy: 0.9682\n",
      "Epoch 2: val_accuracy improved from 0.95487 to 0.95726, saving model to model_finetuned.h5\n",
      "2812/2812 [==============================] - 1313s 467ms/step - loss: 0.1019 - accuracy: 0.9682 - val_loss: 0.1618 - val_accuracy: 0.9573\n",
      "Epoch 3/10\n",
      "2812/2812 [==============================] - ETA: 0s - loss: 0.0744 - accuracy: 0.9770\n",
      "Epoch 3: val_accuracy improved from 0.95726 to 0.97872, saving model to model_finetuned.h5\n",
      "2812/2812 [==============================] - 1310s 466ms/step - loss: 0.0744 - accuracy: 0.9770 - val_loss: 0.0657 - val_accuracy: 0.9787\n",
      "Epoch 4/10\n",
      "2812/2812 [==============================] - ETA: 0s - loss: 0.0566 - accuracy: 0.9827\n",
      "Epoch 4: val_accuracy improved from 0.97872 to 0.98088, saving model to model_finetuned.h5\n",
      "2812/2812 [==============================] - 1330s 473ms/step - loss: 0.0566 - accuracy: 0.9827 - val_loss: 0.0649 - val_accuracy: 0.9809\n",
      "Epoch 5/10\n",
      "2812/2812 [==============================] - ETA: 0s - loss: 0.0548 - accuracy: 0.9839\n",
      "Epoch 5: val_accuracy improved from 0.98088 to 0.98247, saving model to model_finetuned.h5\n",
      "2812/2812 [==============================] - 1328s 472ms/step - loss: 0.0548 - accuracy: 0.9839 - val_loss: 0.0700 - val_accuracy: 0.9825\n",
      "Epoch 6/10\n",
      "2812/2812 [==============================] - ETA: 0s - loss: 0.0422 - accuracy: 0.9873\n",
      "Epoch 6: val_accuracy improved from 0.98247 to 0.98424, saving model to model_finetuned.h5\n",
      "2812/2812 [==============================] - 1490s 530ms/step - loss: 0.0422 - accuracy: 0.9873 - val_loss: 0.0508 - val_accuracy: 0.9842\n",
      "Epoch 7/10\n",
      "2812/2812 [==============================] - ETA: 0s - loss: 0.0360 - accuracy: 0.9890\n",
      "Epoch 7: val_accuracy improved from 0.98424 to 0.98475, saving model to model_finetuned.h5\n",
      "2812/2812 [==============================] - 1566s 557ms/step - loss: 0.0360 - accuracy: 0.9890 - val_loss: 0.0527 - val_accuracy: 0.9847\n",
      "Epoch 8/10\n",
      "2812/2812 [==============================] - ETA: 0s - loss: 0.0338 - accuracy: 0.9896\n",
      "Epoch 8: val_accuracy improved from 0.98475 to 0.98628, saving model to model_finetuned.h5\n",
      "2812/2812 [==============================] - 1316s 468ms/step - loss: 0.0338 - accuracy: 0.9896 - val_loss: 0.0462 - val_accuracy: 0.9863\n",
      "Epoch 9/10\n",
      "2812/2812 [==============================] - ETA: 0s - loss: 0.0302 - accuracy: 0.9909\n",
      "Epoch 9: val_accuracy improved from 0.98628 to 0.98828, saving model to model_finetuned.h5\n",
      "2812/2812 [==============================] - 1344s 478ms/step - loss: 0.0302 - accuracy: 0.9909 - val_loss: 0.0424 - val_accuracy: 0.9883\n",
      "Epoch 10/10\n",
      "2812/2812 [==============================] - ETA: 0s - loss: 0.0271 - accuracy: 0.9917\n",
      "Epoch 10: val_accuracy did not improve from 0.98828\n",
      "2812/2812 [==============================] - 1317s 468ms/step - loss: 0.0271 - accuracy: 0.9917 - val_loss: 0.0534 - val_accuracy: 0.9880\n"
     ]
    }
   ],
   "source": [
    "his1 = model_finetuned.fit(train_set, validation_data = test_set, epochs = 10, steps_per_epoch = len(train_set), validation_steps = len(test_set), callbacks = callbacks_list)"
   ]
  },
  {
   "cell_type": "code",
   "execution_count": 13,
   "metadata": {},
   "outputs": [],
   "source": [
    "import pickle as pkl\n",
    "with open('historyDict.txt', 'wb') as file_pikl:\n",
    "    pkl.dump(his1.history, file_pikl)"
   ]
  },
  {
   "cell_type": "code",
   "execution_count": 6,
   "metadata": {},
   "outputs": [],
   "source": [
    "model1 = load_model('model_finetuned.h5')\n"
   ]
  },
  {
   "cell_type": "code",
   "execution_count": 7,
   "metadata": {},
   "outputs": [
    {
     "name": "stdout",
     "output_type": "stream",
     "text": [
      "Model: \"sequential\"\n",
      "_________________________________________________________________\n",
      " Layer (type)                Output Shape              Param #   \n",
      "=================================================================\n",
      " inception_v3 (Functional)   (None, 5, 5, 2048)        21802784  \n",
      "                                                                 \n",
      " flatten (Flatten)           (None, 51200)             0         \n",
      "                                                                 \n",
      " dense (Dense)               (None, 512)               26214912  \n",
      "                                                                 \n",
      " dropout (Dropout)           (None, 512)               0         \n",
      "                                                                 \n",
      " dense_1 (Dense)             (None, 38)                19494     \n",
      "                                                                 \n",
      "=================================================================\n",
      "Total params: 48,037,190\n",
      "Trainable params: 37,349,286\n",
      "Non-trainable params: 10,687,904\n",
      "_________________________________________________________________\n"
     ]
    }
   ],
   "source": [
    "model1.summary()"
   ]
  },
  {
   "cell_type": "code",
   "execution_count": 58,
   "metadata": {},
   "outputs": [],
   "source": [
    "import cv2\n",
    "import numpy as np\n",
    "f = 'D:/Computer/Assignments/PlantDisease/Datasets/test/test/PeachBacterialSpot.jpg'\n",
    "img = cv2.imread(str(f))\n",
    "img = cv2.resize(img, (224, 224))\n",
    "img = img/255\n",
    "\n"
   ]
  },
  {
   "cell_type": "code",
   "execution_count": 59,
   "metadata": {},
   "outputs": [
    {
     "name": "stdout",
     "output_type": "stream",
     "text": [
      "1/1 [==============================] - 0s 29ms/step\n"
     ]
    }
   ],
   "source": [
    "p = model1.predict(np.asarray([img]))\n",
    "idx = np.argmax(p)"
   ]
  },
  {
   "cell_type": "code",
   "execution_count": 60,
   "metadata": {},
   "outputs": [],
   "source": [
    "classes=['Apple scab', 'Apple Black rot', 'Cedar apple rust', \n",
    "         'Apple healthy', 'Blueberry healthy', \n",
    "         'Cherry Powdery mildew', 'Cherry healthy', \n",
    "         'Corn Cercospora leaf spot', 'Corn Common rust', \n",
    "         'Corn Northern Leaf Blight', 'Corn healthy', \n",
    "         'Grape Black rot', 'Grape Black Measles', \n",
    "         'Grape Leaf blight', 'Grape healthy', \n",
    "         'Orange Haunglongbing', 'Peach Bacterial spot', \n",
    "         'Peach healthy', 'Bell Peppers Bacterial spot', 'Bell Peppers healthy', \n",
    "         'Potato Early blight', 'Potato Late blight', 'Potato healthy', \n",
    "         'Raspberry healthy', 'Soybean healthy', 'Squash Powdery mildew', \n",
    "         'Strawberry Leaf scorch', 'Strawberry healthy', 'Tomato Bacterial spot', \n",
    "         'Tomato Early blight', 'Tomato Late blight', 'Tomato Leaf Mold', \n",
    "         'Tomato Septoria leaf spot', 'Tomato Spider mites', \n",
    "         'Tomato Target Spot', 'Tomato Yellow Leaf Curl Virus', \n",
    "         'Tomato mosaic virus', 'Tomato healthy']\n"
   ]
  },
  {
   "cell_type": "code",
   "execution_count": 61,
   "metadata": {},
   "outputs": [
    {
     "data": {
      "text/plain": [
       "-1"
      ]
     },
     "execution_count": 61,
     "metadata": {},
     "output_type": "execute_result"
    }
   ],
   "source": [
    "import matplotlib.pyplot as plt\n",
    "img1 = cv2.imread(str(f))\n",
    "cv2.putText(img1, classes[idx], (10, 30), cv2.FONT_HERSHEY_SIMPLEX, 0.5, (255, 0, 0), 2)\n",
    "cv2.imshow('image', img1)\n",
    "cv2.waitKey(0)"
   ]
  },
  {
   "cell_type": "code",
   "execution_count": null,
   "metadata": {},
   "outputs": [],
   "source": []
  }
 ],
 "metadata": {
  "kernelspec": {
   "display_name": "Python 3.10.7 64-bit",
   "language": "python",
   "name": "python3"
  },
  "language_info": {
   "codemirror_mode": {
    "name": "ipython",
    "version": 3
   },
   "file_extension": ".py",
   "mimetype": "text/x-python",
   "name": "python",
   "nbconvert_exporter": "python",
   "pygments_lexer": "ipython3",
   "version": "3.10.7"
  },
  "orig_nbformat": 4,
  "vscode": {
   "interpreter": {
    "hash": "26de051ba29f2982a8de78e945f0abaf191376122a1563185a90213a26c5da77"
   }
  }
 },
 "nbformat": 4,
 "nbformat_minor": 2
}
